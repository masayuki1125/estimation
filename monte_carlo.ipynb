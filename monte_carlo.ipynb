{
 "cells": [
  {
   "cell_type": "code",
   "execution_count": 44,
   "source": [
    "import numpy as np\n",
    "import ray\n",
    "import sys\n",
    "sys.path.append(\"../channel\")\n",
    "from AWGN import _AWGN\n",
    "sys.path.append(\"../turbo_code\")\n",
    "from turbo_code import coding\n",
    "\n",
    "cd=coding(100)\n",
    "ch=_AWGN()"
   ],
   "outputs": [],
   "metadata": {}
  },
  {
   "cell_type": "code",
   "execution_count": 45,
   "source": [
    "'''\n",
    "#ray.initを一回だけ実行する\n",
    "def run_once(f):\n",
    "    def wrapper(*args, **kwargs):\n",
    "        if not wrapper.has_run:\n",
    "            wrapper.has_run = True\n",
    "            return f(*args, **kwargs)\n",
    "    wrapper.has_run = False\n",
    "    return wrapper\n",
    "\n",
    "@run_once\n",
    "def onece():\n",
    "    ray.init()\n",
    "'''\n",
    "ray.init()"
   ],
   "outputs": [
    {
     "output_type": "error",
     "ename": "RuntimeError",
     "evalue": "Maybe you called ray.init twice by accident? This error can be suppressed by passing in 'ignore_reinit_error=True' or by calling 'ray.shutdown()' prior to 'ray.init()'.",
     "traceback": [
      "\u001b[0;31m---------------------------------------------------------------------------\u001b[0m",
      "\u001b[0;31mRuntimeError\u001b[0m                              Traceback (most recent call last)",
      "\u001b[0;32m<ipython-input-45-ddd5b36ffce9>\u001b[0m in \u001b[0;36m<module>\u001b[0;34m\u001b[0m\n\u001b[1;32m     13\u001b[0m     \u001b[0mray\u001b[0m\u001b[0;34m.\u001b[0m\u001b[0minit\u001b[0m\u001b[0;34m(\u001b[0m\u001b[0;34m)\u001b[0m\u001b[0;34m\u001b[0m\u001b[0;34m\u001b[0m\u001b[0m\n\u001b[1;32m     14\u001b[0m '''\n\u001b[0;32m---> 15\u001b[0;31m \u001b[0mray\u001b[0m\u001b[0;34m.\u001b[0m\u001b[0minit\u001b[0m\u001b[0;34m(\u001b[0m\u001b[0;34m)\u001b[0m\u001b[0;34m\u001b[0m\u001b[0;34m\u001b[0m\u001b[0m\n\u001b[0m",
      "\u001b[0;32m~/.pyenv/versions/3.7.10/lib/python3.7/site-packages/ray/worker.py\u001b[0m in \u001b[0;36minit\u001b[0;34m(address, num_cpus, num_gpus, resources, object_store_memory, local_mode, ignore_reinit_error, include_dashboard, dashboard_host, dashboard_port, job_config, configure_logging, logging_level, logging_format, log_to_driver, _enable_object_reconstruction, _redis_max_memory, _node_ip_address, _driver_object_store_memory, _memory, _redis_password, _java_worker_options, _code_search_path, _temp_dir, _load_code_from_local, _lru_evict, _metrics_export_port, _object_spilling_config, _system_config)\u001b[0m\n\u001b[1;32m    643\u001b[0m             \u001b[0;32mreturn\u001b[0m\u001b[0;34m\u001b[0m\u001b[0;34m\u001b[0m\u001b[0m\n\u001b[1;32m    644\u001b[0m         \u001b[0;32melse\u001b[0m\u001b[0;34m:\u001b[0m\u001b[0;34m\u001b[0m\u001b[0;34m\u001b[0m\u001b[0m\n\u001b[0;32m--> 645\u001b[0;31m             raise RuntimeError(\"Maybe you called ray.init twice by accident? \"\n\u001b[0m\u001b[1;32m    646\u001b[0m                                \u001b[0;34m\"This error can be suppressed by passing in \"\u001b[0m\u001b[0;34m\u001b[0m\u001b[0;34m\u001b[0m\u001b[0m\n\u001b[1;32m    647\u001b[0m                                \u001b[0;34m\"'ignore_reinit_error=True' or by calling \"\u001b[0m\u001b[0;34m\u001b[0m\u001b[0;34m\u001b[0m\u001b[0m\n",
      "\u001b[0;31mRuntimeError\u001b[0m: Maybe you called ray.init twice by accident? This error can be suppressed by passing in 'ignore_reinit_error=True' or by calling 'ray.shutdown()' prior to 'ray.init()'."
     ]
    }
   ],
   "metadata": {}
  },
  {
   "cell_type": "code",
   "execution_count": 47,
   "source": [
    "#毎回書き換える関数その2\n",
    "@ray.remote\n",
    "def output(K,EbNodB):\n",
    "        '''\n",
    "        #あるSNRで計算結果を出力する関数を作成\n",
    "        #main_func must input 'EbNodB' and output 1D 'codeword' and 'EST_codeword'\n",
    "        '''\n",
    "\n",
    "        #import module \n",
    "        sys.path.append(\"../turbo_code\")\n",
    "        import turbo_code\n",
    "        tc=turbo_code.turbo_code(K)\n",
    "        main_func=tc.turbo_code\n",
    "\n",
    "        '''\n",
    "        ここから上は毎回書き換え\n",
    "        '''\n",
    "\n",
    "        #seed値の設定\n",
    "        np.random.seed()\n",
    "\n",
    "        #prepare some constants\n",
    "        MAX_ERR=1\n",
    "        count_bitall=0\n",
    "        count_biterr=0\n",
    "        count_all=0\n",
    "        count_err=0\n",
    "        \n",
    "\n",
    "        while count_err<MAX_ERR:\n",
    "        #print(\"\\r\"+str(count_err),end=\"\")\n",
    "            information,EST_information=main_func(EbNodB)\n",
    "            \n",
    "            #calculate block error rate\n",
    "            if np.any(information!=EST_information):\n",
    "                count_err+=1\n",
    "            count_all+=1\n",
    "\n",
    "            #calculate bit error rate \n",
    "            count_biterr+=np.sum(information!=EST_information)\n",
    "            count_bitall+=len(information)\n",
    "\n",
    "        return count_err,count_all,count_biterr,count_bitall\n"
   ],
   "outputs": [],
   "metadata": {}
  },
  {
   "cell_type": "code",
   "execution_count": 48,
   "source": [
    "class MC():\n",
    "    def __init__(self):\n",
    "        super().__init__()\n",
    "        \n",
    "        self.TX_antenna=1\n",
    "        self.RX_antenna=1\n",
    "        self.MAX_ERR=8\n",
    "        self.EbNodB_start=-5\n",
    "        self.EbNodB_end=1\n",
    "        self.EbNodB_range=np.arange(self.EbNodB_start,self.EbNodB_end) "
   ],
   "outputs": [],
   "metadata": {}
  },
  {
   "cell_type": "code",
   "execution_count": 49,
   "source": [
    "class MC(MC):\n",
    "    def monte_carlo(self,K):\n",
    "        '''\n",
    "        input:main_func\n",
    "        -----------\n",
    "        main_func: must input 'EbNodB' and output 1D 'codeword' and 'EST_codeword'\n",
    "        -----------\n",
    "        output:BLER,BER\n",
    "\n",
    "        '''\n",
    "\n",
    "        BLER=np.zeros(len(self.EbNodB_range))\n",
    "        BER=np.zeros(len(self.EbNodB_range))\n",
    "\n",
    "        print(\"from\"+str(self.EbNodB_start)+\"to\"+str(self.EbNodB_end))\n",
    "        \n",
    "        result_ids=[[] for i in range(len(self.EbNodB_range))]\n",
    "\n",
    "        for i,EbNodB in enumerate(self.EbNodB_range):\n",
    "            \n",
    "            for j in range(self.MAX_ERR):\n",
    "                #multiprocess    \n",
    "                result_ids[i].append(output.remote(K,EbNodB))  # 並列演算\n",
    "                #resultは長さ1のリストの中にBLER,BERの2つのarrayのtupleが入った配列\n",
    "\n",
    "        for i,EbNodB in enumerate(self.EbNodB_range):\n",
    "\n",
    "            result=ray.get(result_ids[i])\n",
    "\n",
    "            count_err=0\n",
    "            count_all=0\n",
    "            count_biterr=0\n",
    "            count_bitall=0\n",
    "            \n",
    "            for j in range(self.MAX_ERR):\n",
    "                tmp1,tmp2,tmp3,tmp4=result[j]\n",
    "                count_err+=tmp1\n",
    "                count_all+=tmp2\n",
    "                count_biterr+=tmp3\n",
    "                count_bitall+=tmp4\n",
    "\n",
    "            BLER[i]=count_err/count_all\n",
    "            BER[i]=count_biterr/count_bitall\n",
    "\n",
    "            if count_biterr/count_bitall<10**-5:\n",
    "                print(\"finish\")\n",
    "                break\n",
    "\n",
    "            print(\"\\r\"+\"EbNodB=\"+str(EbNodB)+\",BLER=\"+str(BLER[i])+\",BER=\"+str(BER[i]),end=\"\")\n",
    "        return BLER,BER\n"
   ],
   "outputs": [],
   "metadata": {}
  },
  {
   "cell_type": "code",
   "execution_count": 46,
   "source": [
    "#毎回書き換える関数その１\n",
    "class savetxt(coding,_AWGN,MC):\n",
    "\n",
    "  def savetxt(self,BLER,BER):\n",
    "\n",
    "    with open(self.filename,'w') as f:\n",
    "\n",
    "        #print(\"#N=\"+str(self.N),file=f)\n",
    "        print(\"#TX_antenna=\"+str(self.TX_antenna),file=f)\n",
    "        print(\"#RX_antenna=\"+str(self.RX_antenna),file=f)\n",
    "        print(\"#modulation_symbol=\"+str(self.M),file=f)\n",
    "        #print(\"#MAX_BLERR=\"+str(self.MAX_ERR),file=f)\n",
    "        print(\"#iteration number=\"+str(self.L_MAX),file=f)\n",
    "        print(\"#EsNodB,BLER,BER\",file=f) \n",
    "        for i in range(len(self.EbNodB_range)):\n",
    "            print(str(self.EbNodB_range[i]),str(BLER[i]),str(BER[i]),file=f)"
   ],
   "outputs": [],
   "metadata": {}
  },
  {
   "cell_type": "code",
   "execution_count": 50,
   "source": [
    "K=[400,800,1000]\n",
    "for K in K:\n",
    "    print(\"K=\",K)\n",
    "    mc=MC()\n",
    "    BLER,BER=mc.monte_carlo(K)\n",
    "    st=savetxt(K)\n",
    "    st.savetxt(BLER,BER)"
   ],
   "outputs": [
    {
     "output_type": "stream",
     "name": "stdout",
     "text": [
      "K= 400\n",
      "from-5to1\n"
     ]
    },
    {
     "output_type": "error",
     "ename": "KeyboardInterrupt",
     "evalue": "",
     "traceback": [
      "\u001b[0;31m---------------------------------------------------------------------------\u001b[0m",
      "\u001b[0;31mKeyboardInterrupt\u001b[0m                         Traceback (most recent call last)",
      "\u001b[0;32m<ipython-input-50-27f0f0d270a1>\u001b[0m in \u001b[0;36m<module>\u001b[0;34m\u001b[0m\n\u001b[1;32m      3\u001b[0m     \u001b[0mprint\u001b[0m\u001b[0;34m(\u001b[0m\u001b[0;34m\"K=\"\u001b[0m\u001b[0;34m,\u001b[0m\u001b[0mK\u001b[0m\u001b[0;34m)\u001b[0m\u001b[0;34m\u001b[0m\u001b[0;34m\u001b[0m\u001b[0m\n\u001b[1;32m      4\u001b[0m     \u001b[0mmc\u001b[0m\u001b[0;34m=\u001b[0m\u001b[0mMC\u001b[0m\u001b[0;34m(\u001b[0m\u001b[0;34m)\u001b[0m\u001b[0;34m\u001b[0m\u001b[0;34m\u001b[0m\u001b[0m\n\u001b[0;32m----> 5\u001b[0;31m     \u001b[0mBLER\u001b[0m\u001b[0;34m,\u001b[0m\u001b[0mBER\u001b[0m\u001b[0;34m=\u001b[0m\u001b[0mmc\u001b[0m\u001b[0;34m.\u001b[0m\u001b[0mmonte_carlo\u001b[0m\u001b[0;34m(\u001b[0m\u001b[0mK\u001b[0m\u001b[0;34m)\u001b[0m\u001b[0;34m\u001b[0m\u001b[0;34m\u001b[0m\u001b[0m\n\u001b[0m\u001b[1;32m      6\u001b[0m     \u001b[0mst\u001b[0m\u001b[0;34m=\u001b[0m\u001b[0msavetxt\u001b[0m\u001b[0;34m(\u001b[0m\u001b[0mK\u001b[0m\u001b[0;34m)\u001b[0m\u001b[0;34m\u001b[0m\u001b[0;34m\u001b[0m\u001b[0m\n\u001b[1;32m      7\u001b[0m     \u001b[0mst\u001b[0m\u001b[0;34m.\u001b[0m\u001b[0msavetxt\u001b[0m\u001b[0;34m(\u001b[0m\u001b[0mBLER\u001b[0m\u001b[0;34m,\u001b[0m\u001b[0mBER\u001b[0m\u001b[0;34m)\u001b[0m\u001b[0;34m\u001b[0m\u001b[0;34m\u001b[0m\u001b[0m\n",
      "\u001b[0;32m<ipython-input-49-88770df810fd>\u001b[0m in \u001b[0;36mmonte_carlo\u001b[0;34m(self, K)\u001b[0m\n\u001b[1;32m     26\u001b[0m         \u001b[0;32mfor\u001b[0m \u001b[0mi\u001b[0m\u001b[0;34m,\u001b[0m\u001b[0mEbNodB\u001b[0m \u001b[0;32min\u001b[0m \u001b[0menumerate\u001b[0m\u001b[0;34m(\u001b[0m\u001b[0mself\u001b[0m\u001b[0;34m.\u001b[0m\u001b[0mEbNodB_range\u001b[0m\u001b[0;34m)\u001b[0m\u001b[0;34m:\u001b[0m\u001b[0;34m\u001b[0m\u001b[0;34m\u001b[0m\u001b[0m\n\u001b[1;32m     27\u001b[0m \u001b[0;34m\u001b[0m\u001b[0m\n\u001b[0;32m---> 28\u001b[0;31m             \u001b[0mresult\u001b[0m\u001b[0;34m=\u001b[0m\u001b[0mray\u001b[0m\u001b[0;34m.\u001b[0m\u001b[0mget\u001b[0m\u001b[0;34m(\u001b[0m\u001b[0mresult_ids\u001b[0m\u001b[0;34m[\u001b[0m\u001b[0mi\u001b[0m\u001b[0;34m]\u001b[0m\u001b[0;34m)\u001b[0m\u001b[0;34m\u001b[0m\u001b[0;34m\u001b[0m\u001b[0m\n\u001b[0m\u001b[1;32m     29\u001b[0m \u001b[0;34m\u001b[0m\u001b[0m\n\u001b[1;32m     30\u001b[0m             \u001b[0mcount_err\u001b[0m\u001b[0;34m=\u001b[0m\u001b[0;36m0\u001b[0m\u001b[0;34m\u001b[0m\u001b[0;34m\u001b[0m\u001b[0m\n",
      "\u001b[0;32m~/.pyenv/versions/3.7.10/lib/python3.7/site-packages/ray/worker.py\u001b[0m in \u001b[0;36mget\u001b[0;34m(object_refs, timeout)\u001b[0m\n\u001b[1;32m   1417\u001b[0m         \u001b[0;32mglobal\u001b[0m \u001b[0mlast_task_error_raise_time\u001b[0m\u001b[0;34m\u001b[0m\u001b[0;34m\u001b[0m\u001b[0m\n\u001b[1;32m   1418\u001b[0m         \u001b[0;31m# TODO(ujvl): Consider how to allow user to retrieve the ready objects.\u001b[0m\u001b[0;34m\u001b[0m\u001b[0;34m\u001b[0m\u001b[0;34m\u001b[0m\u001b[0m\n\u001b[0;32m-> 1419\u001b[0;31m         \u001b[0mvalues\u001b[0m \u001b[0;34m=\u001b[0m \u001b[0mworker\u001b[0m\u001b[0;34m.\u001b[0m\u001b[0mget_objects\u001b[0m\u001b[0;34m(\u001b[0m\u001b[0mobject_refs\u001b[0m\u001b[0;34m,\u001b[0m \u001b[0mtimeout\u001b[0m\u001b[0;34m=\u001b[0m\u001b[0mtimeout\u001b[0m\u001b[0;34m)\u001b[0m\u001b[0;34m\u001b[0m\u001b[0;34m\u001b[0m\u001b[0m\n\u001b[0m\u001b[1;32m   1420\u001b[0m         \u001b[0;32mfor\u001b[0m \u001b[0mi\u001b[0m\u001b[0;34m,\u001b[0m \u001b[0mvalue\u001b[0m \u001b[0;32min\u001b[0m \u001b[0menumerate\u001b[0m\u001b[0;34m(\u001b[0m\u001b[0mvalues\u001b[0m\u001b[0;34m)\u001b[0m\u001b[0;34m:\u001b[0m\u001b[0;34m\u001b[0m\u001b[0;34m\u001b[0m\u001b[0m\n\u001b[1;32m   1421\u001b[0m             \u001b[0;32mif\u001b[0m \u001b[0misinstance\u001b[0m\u001b[0;34m(\u001b[0m\u001b[0mvalue\u001b[0m\u001b[0;34m,\u001b[0m \u001b[0mRayError\u001b[0m\u001b[0;34m)\u001b[0m\u001b[0;34m:\u001b[0m\u001b[0;34m\u001b[0m\u001b[0;34m\u001b[0m\u001b[0m\n",
      "\u001b[0;32m~/.pyenv/versions/3.7.10/lib/python3.7/site-packages/ray/worker.py\u001b[0m in \u001b[0;36mget_objects\u001b[0;34m(self, object_refs, timeout)\u001b[0m\n\u001b[1;32m    301\u001b[0m         \u001b[0mtimeout_ms\u001b[0m \u001b[0;34m=\u001b[0m \u001b[0mint\u001b[0m\u001b[0;34m(\u001b[0m\u001b[0mtimeout\u001b[0m \u001b[0;34m*\u001b[0m \u001b[0;36m1000\u001b[0m\u001b[0;34m)\u001b[0m \u001b[0;32mif\u001b[0m \u001b[0mtimeout\u001b[0m \u001b[0;32melse\u001b[0m \u001b[0;34m-\u001b[0m\u001b[0;36m1\u001b[0m\u001b[0;34m\u001b[0m\u001b[0;34m\u001b[0m\u001b[0m\n\u001b[1;32m    302\u001b[0m         data_metadata_pairs = self.core_worker.get_objects(\n\u001b[0;32m--> 303\u001b[0;31m             object_refs, self.current_task_id, timeout_ms)\n\u001b[0m\u001b[1;32m    304\u001b[0m         \u001b[0;32mreturn\u001b[0m \u001b[0mself\u001b[0m\u001b[0;34m.\u001b[0m\u001b[0mdeserialize_objects\u001b[0m\u001b[0;34m(\u001b[0m\u001b[0mdata_metadata_pairs\u001b[0m\u001b[0;34m,\u001b[0m \u001b[0mobject_refs\u001b[0m\u001b[0;34m)\u001b[0m\u001b[0;34m\u001b[0m\u001b[0;34m\u001b[0m\u001b[0m\n\u001b[1;32m    305\u001b[0m \u001b[0;34m\u001b[0m\u001b[0m\n",
      "\u001b[0;32mpython/ray/_raylet.pyx\u001b[0m in \u001b[0;36mray._raylet.CoreWorker.get_objects\u001b[0;34m()\u001b[0m\n",
      "\u001b[0;32mpython/ray/_raylet.pyx\u001b[0m in \u001b[0;36mray._raylet.check_status\u001b[0;34m()\u001b[0m\n",
      "\u001b[0;31mKeyboardInterrupt\u001b[0m: "
     ]
    }
   ],
   "metadata": {}
  },
  {
   "cell_type": "code",
   "execution_count": null,
   "source": [],
   "outputs": [],
   "metadata": {}
  }
 ],
 "metadata": {
  "orig_nbformat": 4,
  "language_info": {
   "name": "python",
   "version": "3.7.10",
   "mimetype": "text/x-python",
   "codemirror_mode": {
    "name": "ipython",
    "version": 3
   },
   "pygments_lexer": "ipython3",
   "nbconvert_exporter": "python",
   "file_extension": ".py"
  },
  "kernelspec": {
   "name": "python3",
   "display_name": "Python 3.7.10 64-bit ('3.7.10': pyenv)"
  },
  "interpreter": {
   "hash": "5bed13c6ca82b80bcc3f2c0cc12d507f1ad15eb73f54f6076ce610d080eb7e68"
  }
 },
 "nbformat": 4,
 "nbformat_minor": 2
}